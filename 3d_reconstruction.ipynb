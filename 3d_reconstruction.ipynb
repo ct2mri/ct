{
 "cells": [
  {
   "cell_type": "code",
   "execution_count": null,
   "metadata": {},
   "outputs": [],
   "source": [
    "from os import walk\n",
    "import numpy as np\n",
    "import matplotlib.pyplot as plt\n",
    "from pydicom import dcmread\n",
    "import cv2"
   ]
  },
  {
   "cell_type": "code",
   "execution_count": null,
   "metadata": {},
   "outputs": [],
   "source": [
    "path = 'D:/Vimal/1AA_CT_to_MRI/CT2MRI/CT/DICOM/24040215/57030000/'"
   ]
  },
  {
   "cell_type": "code",
   "execution_count": null,
   "metadata": {},
   "outputs": [],
   "source": [
    "stack = []\n",
    "dirpath = ''\n",
    "filenames = []\n",
    "for (dirpath, _, filenames) in walk(path):\n",
    "    pass\n",
    "for fname in filenames:\n",
    "    stack.append(dcmread(dirpath+fname).pixel_array)"
   ]
  },
  {
   "cell_type": "code",
   "execution_count": null,
   "metadata": {},
   "outputs": [],
   "source": [
    "stack = np.array(stack)"
   ]
  },
  {
   "cell_type": "code",
   "execution_count": null,
   "metadata": {},
   "outputs": [],
   "source": [
    "def interpolate_slices(stack, new_depth):\n",
    "    interpolated_stack = []\n",
    "    for i in range(len(stack) - 1):\n",
    "        for j in range(new_depth):  # Divide the z-space\n",
    "            weight = j / new_depth\n",
    "            interpolated_slice = (1 - weight) * stack[i] + weight * stack[i + 1]\n",
    "            interpolated_stack.append(interpolated_slice)\n",
    "    return np.array(np.stack(stack[i],interpolated_stack))\n",
    "    "
   ]
  },
  {
   "cell_type": "code",
   "execution_count": null,
   "metadata": {},
   "outputs": [],
   "source": [
    "def interpolate_slices2(stack, new_depth):\n",
    "    interpolated_stack = []\n",
    "    for i in range(len(stack) - 1):\n",
    "        interpolated_stack.append(stack[i])\n",
    "        for j in range(new_depth):  # Divide the z-space\n",
    "            weight = j / new_depth\n",
    "            interpolated_slice = (1 - weight) * stack[i] + weight * stack[i + 1]\n",
    "            interpolated_stack.append(interpolated_slice)\n",
    "    return np.array(interpolated_stack)"
   ]
  },
  {
   "cell_type": "code",
   "execution_count": null,
   "metadata": {},
   "outputs": [],
   "source": [
    "# # vol = []\n",
    "# for slice in interpolate_slices2(stack, 1):\n",
    "#     volume = np.stack(slice, axis=0)\n",
    "\n",
    "volume = np.stack(interpolate_slices2(stack, 10), axis=0)\n"
   ]
  },
  {
   "cell_type": "code",
   "execution_count": null,
   "metadata": {},
   "outputs": [],
   "source": [
    "volume.shape"
   ]
  },
  {
   "cell_type": "code",
   "execution_count": null,
   "metadata": {},
   "outputs": [],
   "source": [
    "np.save('volume.txt', volume)"
   ]
  },
  {
   "cell_type": "code",
   "execution_count": null,
   "metadata": {},
   "outputs": [],
   "source": [
    "import matplotlib.pyplot as plt\n",
    "for img in volume:\n",
    "# Visualize a slice\n",
    "    plt.imshow(img, cmap='gray')\n",
    "    plt.show()\n"
   ]
  },
  {
   "cell_type": "code",
   "execution_count": null,
   "metadata": {},
   "outputs": [],
   "source": []
  },
  {
   "cell_type": "code",
   "execution_count": null,
   "metadata": {},
   "outputs": [],
   "source": []
  },
  {
   "cell_type": "code",
   "execution_count": null,
   "metadata": {},
   "outputs": [],
   "source": []
  }
 ],
 "metadata": {
  "kernelspec": {
   "display_name": "Python 3",
   "language": "python",
   "name": "python3"
  },
  "language_info": {
   "codemirror_mode": {
    "name": "ipython",
    "version": 3
   },
   "file_extension": ".py",
   "mimetype": "text/x-python",
   "name": "python",
   "nbconvert_exporter": "python",
   "pygments_lexer": "ipython3",
   "version": "3.12.3"
  }
 },
 "nbformat": 4,
 "nbformat_minor": 2
}
